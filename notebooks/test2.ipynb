{
 "cells": [
  {
   "cell_type": "code",
   "execution_count": 1,
   "metadata": {},
   "outputs": [],
   "source": [
    "import sys, os, io, json\n",
    "import subprocess as sp\n",
    "import re\n",
    "import cv2\n",
    "cmd_timeout=10*60*60\n",
    "FFMPEG_BINARY=\"C:/ffmpeg/bin/ffmpeg\"\n",
    "\n",
    "def get_video_info(file_path: str):\n",
    "    \"\"\"Get video information using ffmpeg.\"\"\"\n",
    "    print(\"Get video information using ffmpeg [START]\")\n",
    "    try:\n",
    "        command = [\n",
    "            FFMPEG_BINARY,\n",
    "            \"-i\", file_path,\n",
    "            \"-af\", \"ebur128=peak=true\",\n",
    "            \"-f\", \"null\",\n",
    "            \"-\"\n",
    "        ]\n",
    "        result = sp.run(command, capture_output=True, text=True, check=True)\n",
    "        \n",
    "        info = {}\n",
    "        loudness_flag = False\n",
    "        with open(file_path+\".log\", \"w\") as f:\n",
    "            f.write(result.stderr)\n",
    "        for line in result.stderr.splitlines():\n",
    "            if \"Duration\" in line:\n",
    "                match = re.search(r\"Duration: (\\d{2}):(\\d{2}):(\\d{2})\\.(\\d{2})\", line)\n",
    "                if match:\n",
    "                    hours, minutes, seconds, milliseconds = map(int, match.groups())\n",
    "                    info[\"duration_seconds\"] = hours * 3600 + minutes * 60 + seconds + milliseconds / 100\n",
    "\n",
    "                fps_match = re.search(r'(\\d+)\\s+fps', line)\n",
    "                if fps_match:\n",
    "                    info[\"fps\"] = int(fps_match.group(1))\n",
    "\n",
    "            if \"bitrate\" in line:\n",
    "                match = re.search(r\"bitrate: (\\d+) kb/s\", line)\n",
    "                if match:\n",
    "                    info[\"bitrate_kbps\"] = int(match.group(1))\n",
    "            elif \"Stream\" in line and \"Video:\" in line:\n",
    "                width_height_match = re.search(r\", (\\d+)x(\\d+)\", line)\n",
    "                if width_height_match:\n",
    "                    info[\"width\"], info[\"height\"] = map(int, width_height_match.groups())\n",
    "            elif \"Summary:\" in line:\n",
    "                loudness_flag = True\n",
    "            elif loudness_flag and \"I:\" in line:\n",
    "                info[\"integrated_loudness\"] = float(line.split('I:')[1].strip().split(' ')[0])\n",
    "            elif loudness_flag and 'LRA:' in line:\n",
    "                info[\"loudness_range\"] = float(line.split('LRA:')[1].strip().split(' ')[0])\n",
    "        \n",
    "        print(\"Get video information using ffmpeg [DONE]\")\n",
    "        return info\n",
    "    \n",
    "    except sp.CalledProcessError as e:\n",
    "        print(f\"Error: {e}\")\n",
    "    except Exception as e:\n",
    "        print(f\"Unexpected error: {e}\")\n",
    "    \n",
    "    return None\n",
    "\n",
    "def bytes_to_str(st):\n",
    "    if st is None:\n",
    "        return None\n",
    "    if isinstance(st, bytes):\n",
    "        try:\n",
    "            return  st.decode('utf-8').strip()\n",
    "        except UnicodeDecodeError:\n",
    "            return  st.decode('latin-1').strip()\n",
    "    return str(st).strip()\n",
    "\n",
    "def exec_cmd(cmd, timeout=cmd_timeout):\n",
    "    \"\"\"Exécution d'une commande shell dans un process séparé.\n",
    "\n",
    "    Arguments:\n",
    "        cmd {str} -- Commande shell à exécuter.\n",
    "\n",
    "    Returns:\n",
    "        entier -- Code retour de l'exécution de la commande :\n",
    "                    str type - Succès: le stdout du commande\n",
    "                    None - Echec: avec afiche sur le log l'erreur\n",
    "    \"\"\"\n",
    "    print(f\"Appel de la commande: {cmd}\")\n",
    "    stdout, stderr, process = None, None, None\n",
    "    process = sp.Popen(str(cmd), shell=True, stderr=sp.PIPE, stdout=sp.PIPE)\n",
    "    try:\n",
    "        stdout, stderr = process.communicate(timeout=timeout)\n",
    "    except sp.TimeoutExpired:\n",
    "        # Dans cet exemple, nous lançons une commande externe avec `subprocess.Popen` et utilisons la méthode `communicate()` avec un timeout en secondes. \n",
    "        # Si le processus ne se termine pas avant l'expiration du délai, nous tuons le processus avec `process.kill()` et récupérons les sorties standard et d'erreur.\n",
    "        process.kill()\n",
    "        stdout, stderr = process.communicate()\n",
    "        stderr=bytes_to_str(stderr)\n",
    "        stdout=bytes_to_str(stdout)\n",
    "        print(f\"Le processus a expiré après {timeout} secondes\" +\n",
    "              \"\\n==> stderr: \\n\"+stderr+\"\\n==> stdout: \\n\"+stdout)\n",
    "        return False, None, None\n",
    "    except sp.CalledProcessError as e:\n",
    "        print(f\"Erreur lors de l'appel à la commande: {e}\")\n",
    "        return False, None, None\n",
    "    except Exception as e:\n",
    "        print(f\"Unexpected lors de l'appel à la commande: {e}\")\n",
    "        return False, None, None\n",
    "\n",
    "    returncode = int(process.returncode)\n",
    "    stderr=bytes_to_str(stderr)\n",
    "    stdout=bytes_to_str(stdout)\n",
    "    if returncode != 0 and stderr is not None and stderr != '':\n",
    "        print(\"Erreur lors de l'appel à la commande; returncode=\"+str(returncode) +\n",
    "              \"\\n==> stderr: \\n\"+stderr+\"\\n==> stdout: \\n\"+stdout)\n",
    "        return False, stdout, stderr\n",
    "    # print(\"\\n==> stderr: \\n\"+bytes_to_str(stderr)+\"\\n==> stdout: \\n\"+bytes_to_str(stdout))\n",
    "    print(f\"Succès de la commande {cmd}\")\n",
    "    return True, stdout, stderr"
   ]
  },
  {
   "cell_type": "markdown",
   "metadata": {},
   "source": [
    "# Cas n 1"
   ]
  },
  {
   "cell_type": "code",
   "execution_count": 4,
   "metadata": {},
   "outputs": [
    {
     "name": "stdout",
     "output_type": "stream",
     "text": [
      "Get video information using ffmpeg [START]\n"
     ]
    },
    {
     "name": "stdout",
     "output_type": "stream",
     "text": [
      "Get video information using ffmpeg [DONE]\n",
      "{'duration_seconds': 19.96, 'bitrate_kbps': 16557, 'width': 1920, 'height': 1080, 'integrated_loudness': -23.1, 'loudness_range': 5.3}\n",
      "frame_rate: 25.0; frame_count: 499, expected_frame_count: 500\n"
     ]
    },
    {
     "data": {
      "text/plain": [
       "False"
      ]
     },
     "execution_count": 4,
     "metadata": {},
     "output_type": "execute_result"
    }
   ],
   "source": [
    "input_video_path=r\"C:\\Users\\mohammed\\Desktop\\workdir\\app\\assets\\pubid_FR_IPNT_BRIV_LITE_0001_020_F.mp4\"\n",
    "expected_duration=20\n",
    "\n",
    "output_video_path = os.path.join(os.path.dirname(os.path.abspath(input_video_path)),\"file_out.mp4\")\n",
    "silence_video_path = os.path.join(os.path.dirname(os.path.abspath(input_video_path)),\"file_silence.mp4\")\n",
    "\n",
    "info=get_video_info(input_video_path)\n",
    "print(info)\n",
    "duration=info['duration_seconds']\n",
    "cap = cv2.VideoCapture(input_video_path)\n",
    "# Get video properties\n",
    "width = int(cap.get(cv2.CAP_PROP_FRAME_WIDTH))\n",
    "height = int(cap.get(cv2.CAP_PROP_FRAME_HEIGHT))\n",
    "frame_count = int(cap.get(cv2.CAP_PROP_FRAME_COUNT))\n",
    "frame_rate = cap.get(cv2.CAP_PROP_FPS)\n",
    "# Calculate the expected frame count\n",
    "expected_frame_count = int(expected_duration * frame_rate)\n",
    "print(f\"frame_rate: {frame_rate}; frame_count: {frame_count}, expected_frame_count: {expected_frame_count}\")\n",
    "expected_frame_count==frame_count\n"
   ]
  },
  {
   "cell_type": "code",
   "execution_count": 4,
   "metadata": {},
   "outputs": [
    {
     "name": "stdout",
     "output_type": "stream",
     "text": [
      "incorect_frame_count: 1\n",
      "1\n",
      "cnt: 500\n"
     ]
    }
   ],
   "source": [
    "incorect_frame_count = expected_frame_count-frame_count\n",
    "print(\"incorect_frame_count:\",incorect_frame_count)\n",
    "\n",
    "# Create a VideoWriter object to write the new video\n",
    "fourcc = cv2.VideoWriter_fourcc(*'mp4v')\n",
    "out = cv2.VideoWriter(silence_video_path, fourcc, frame_rate, (width, height))\n",
    "\n",
    "# Write the original frames to the new video except the last one\n",
    "cap.set(cv2.CAP_PROP_POS_FRAMES, 0)\n",
    "\n",
    "if expected_frame_count < frame_count:\n",
    "    for _ in range(int(expected_frame_count)):\n",
    "        ret, frame = cap.read()\n",
    "        if not ret:\n",
    "            break\n",
    "        out.write(frame)\n",
    "else:\n",
    "    print(\"1\")\n",
    "    cnt=0\n",
    "    # Write the original frames to the new video\n",
    "    while cap.isOpened():\n",
    "        ret, frame = cap.read()\n",
    "        if not ret:\n",
    "            break\n",
    "        out.write(frame)\n",
    "        cnt+=1\n",
    "\n",
    "    # Read the last frame\n",
    "    cap.set(cv2.CAP_PROP_POS_FRAMES, frame_count - 1)\n",
    "    ret, last_frame = cap.read()\n",
    "\n",
    "    # Write the duplicated last frame to the new video\n",
    "    for _ in range(int(incorect_frame_count)):\n",
    "        out.write(last_frame)\n",
    "        cnt+=1\n",
    "\n",
    "print(\"cnt:\",cnt)\n",
    "# Release the VideoCapture and VideoWriter objects\n",
    "cap.release()\n",
    "out.release()\n"
   ]
  },
  {
   "cell_type": "code",
   "execution_count": 7,
   "metadata": {},
   "outputs": [
    {
     "name": "stdout",
     "output_type": "stream",
     "text": [
      "Appel de la commande:  C:/ffmpeg/bin/ffmpeg  -i \"C:\\Users\\mohammed\\Desktop\\workdir\\app\\assets\\file_silence.mp4\" -i \"C:\\Users\\mohammed\\Desktop\\workdir\\app\\assets\\pubid_FR_IPNT_BRIV_LITE_0001_020_F.mp4\"  -c copy -map 0:v:0 -map 1:a:0  -y \"C:\\Users\\mohammed\\Desktop\\workdir\\app\\assets\\file_out.mp4\" \n",
      "Succès de la commande  C:/ffmpeg/bin/ffmpeg  -i \"C:\\Users\\mohammed\\Desktop\\workdir\\app\\assets\\file_silence.mp4\" -i \"C:\\Users\\mohammed\\Desktop\\workdir\\app\\assets\\pubid_FR_IPNT_BRIV_LITE_0001_020_F.mp4\"  -c copy -map 0:v:0 -map 1:a:0  -y \"C:\\Users\\mohammed\\Desktop\\workdir\\app\\assets\\file_out.mp4\" \n"
     ]
    },
    {
     "data": {
      "text/plain": [
       "True"
      ]
     },
     "execution_count": 7,
     "metadata": {},
     "output_type": "execute_result"
    }
   ],
   "source": [
    "cmd = f\"\"\"\n",
    "{FFMPEG_BINARY} \n",
    "-i \"{silence_video_path}\"\n",
    "-i \"{input_video_path}\" \n",
    "-c copy -map 0:v:0 -map 1:a:0 \n",
    "-y \"{output_video_path}\" \"\"\"\n",
    "flag, _, _ = exec_cmd(str(cmd).replace(\"\\n\", \" \"))\n",
    "flag"
   ]
  },
  {
   "cell_type": "code",
   "execution_count": null,
   "metadata": {},
   "outputs": [],
   "source": [
    "pip install ffmpeg-python"
   ]
  },
  {
   "cell_type": "code",
   "execution_count": 6,
   "metadata": {},
   "outputs": [
    {
     "name": "stdout",
     "output_type": "stream",
     "text": [
      "Video adjusted to 20.0 seconds with 500 frames.\n"
     ]
    }
   ],
   "source": [
    "import ffmpeg\n",
    "import numpy as np\n",
    "\n",
    "FFMPEG_BINARY=\"C:/ffmpeg/bin/ffmpeg\"\n",
    "FFMPEG_DIR_PATH=\"C:/ffmpeg/bin/\"\n",
    "# Environment setup\n",
    "os.environ[\"FFMPEG_BINARY\"] = FFMPEG_BINARY\n",
    "os.environ[\"PATH\"] += os.pathsep + FFMPEG_DIR_PATH\n",
    "\n",
    "input_file=r\"C:\\Users\\mohammed\\Desktop\\workdir\\app\\assets\\pubid_FR_IPNT_BRIV_LITE_0001_020_F.mp4\"\n",
    "output_file = os.path.join(os.path.dirname(os.path.abspath(input_file)),\"file_out.mp4\")\n",
    "try:\n",
    "    os.remove(output_file)\n",
    "except: pass\n",
    "# Get video information\n",
    "probe = ffmpeg.probe(input_file)\n",
    "video_info = next(s for s in probe['streams'] if s['codec_type'] == 'video')\n",
    "duration = float(probe['format']['duration'])\n",
    "frame_rate = eval(video_info['r_frame_rate'])\n",
    "width = int(video_info['width'])\n",
    "height = int(video_info['height'])\n",
    "\n",
    "# Calculate number of frames to add\n",
    "target_duration = 20.0\n",
    "target_frames = int(target_duration * frame_rate)\n",
    "frames_to_add = target_frames - int(duration * frame_rate)\n",
    "\n",
    "# Create silent audio\n",
    "silent_audio = ffmpeg.input('anullsrc', f='lavfi', t=target_duration)\n",
    "\n",
    "# Process video\n",
    "video = (\n",
    "    ffmpeg\n",
    "    .input(input_file)\n",
    "    .filter('tpad', stop_mode='clone', stop_duration=target_duration-duration)\n",
    "    .filter('fps', fps=frame_rate, round='up')\n",
    "    .filter('scale', width, height)\n",
    ")\n",
    "\n",
    "# Combine video and audio\n",
    "output = ffmpeg.output(video, silent_audio, output_file,\n",
    "                       vcodec='libx264', acodec='aac', \n",
    "                       video_bitrate='16557k',\n",
    "                       t=target_duration)\n",
    "\n",
    "# Run FFmpeg command\n",
    "ffmpeg.run(output, overwrite_output=True)\n",
    "\n",
    "print(f\"Video adjusted to {target_duration} seconds with {target_frames} frames.\")"
   ]
  },
  {
   "cell_type": "code",
   "execution_count": 4,
   "metadata": {},
   "outputs": [
    {
     "name": "stdout",
     "output_type": "stream",
     "text": [
      "Appel de la commande: C:/ffmpeg/bin/ffmpeg -i C:\\Users\\mohammed\\Desktop\\workdir\\app\\assets\\pubid_FR_IPNT_BRIV_LITE_0001_020_F.mp4 -filter_complex [0:v]tpad=stop_mode=clone:stop_duration=0.03999999999999915[v];[0:a]apad=pad_dur=0.03999999999999915[a] -map [v] -map [a] -c:v libx264 -preset slow -crf 5 -c:a aac -b:a 192k -r 25 -t 20 -y C:\\Users\\mohammed\\Desktop\\workdir\\app\\assets\\file_out.mp4\n",
      "Succès de la commande C:/ffmpeg/bin/ffmpeg -i C:\\Users\\mohammed\\Desktop\\workdir\\app\\assets\\pubid_FR_IPNT_BRIV_LITE_0001_020_F.mp4 -filter_complex [0:v]tpad=stop_mode=clone:stop_duration=0.03999999999999915[v];[0:a]apad=pad_dur=0.03999999999999915[a] -map [v] -map [a] -c:v libx264 -preset slow -crf 5 -c:a aac -b:a 192k -r 25 -t 20 -y C:\\Users\\mohammed\\Desktop\\workdir\\app\\assets\\file_out.mp4\n"
     ]
    },
    {
     "data": {
      "text/plain": [
       "True"
      ]
     },
     "execution_count": 4,
     "metadata": {},
     "output_type": "execute_result"
    }
   ],
   "source": [
    "input_video_path=r\"C:\\Users\\mohammed\\Desktop\\workdir\\app\\assets\\pubid_FR_IPNT_BRIV_LITE_0001_020_F.mp4\"\n",
    "output_video_path = os.path.join(os.path.dirname(os.path.abspath(input_video_path)),\"file_out.mp4\")\n",
    "target_duration=20\n",
    "duration=19.96\n",
    "frame_rate=25\n",
    "cmd = [\n",
    "    FFMPEG_BINARY,\n",
    "    '-i', input_video_path,\n",
    "    '-filter_complex', f'[0:v]tpad=stop_mode=clone:stop_duration={target_duration-duration}[v];[0:a]apad=pad_dur={target_duration-duration}[a]',\n",
    "    '-map', '[v]',\n",
    "    '-map', '[a]',\n",
    "    '-c:v', 'libx264', '-preset', 'slow', '-crf', '18',\n",
    "    '-c:a', 'aac', '-b:a', '192k',\n",
    "    '-r', str(frame_rate),\n",
    "    '-t', str(target_duration),\n",
    "    '-y', output_video_path\n",
    "]\n",
    "flag, _, _ = exec_cmd(\" \".join(cmd).replace(\"\\n\", \" \"))\n",
    "flag"
   ]
  },
  {
   "cell_type": "code",
   "execution_count": 5,
   "metadata": {},
   "outputs": [
    {
     "name": "stdout",
     "output_type": "stream",
     "text": [
      "Appel de la commande: C:/ffmpeg/bin/ffmpeg -i C:\\Users\\mohammed\\Desktop\\workdir\\app\\assets\\pubid_FR_IPNT_BRIV_LITE_0001_020_F.mp4 -filter_complex [0:v]yadif=mode=1,tpad=stop_mode=clone:stop_duration=0.03999999999999915[v];[0:a]apad=pad_dur=0.03999999999999915[a] -map [v] -map [a] -c:v libx264 -preset slow -crf 18 -c:a aac -b:a 192k -r 25.0 -t 20 -movflags +faststart -y C:\\Users\\mohammed\\Desktop\\workdir\\app\\assets\\file_out.mp4\n",
      "Succès de la commande C:/ffmpeg/bin/ffmpeg -i C:\\Users\\mohammed\\Desktop\\workdir\\app\\assets\\pubid_FR_IPNT_BRIV_LITE_0001_020_F.mp4 -filter_complex [0:v]yadif=mode=1,tpad=stop_mode=clone:stop_duration=0.03999999999999915[v];[0:a]apad=pad_dur=0.03999999999999915[a] -map [v] -map [a] -c:v libx264 -preset slow -crf 18 -c:a aac -b:a 192k -r 25.0 -t 20 -movflags +faststart -y C:\\Users\\mohammed\\Desktop\\workdir\\app\\assets\\file_out.mp4\n"
     ]
    },
    {
     "data": {
      "text/plain": [
       "True"
      ]
     },
     "execution_count": 5,
     "metadata": {},
     "output_type": "execute_result"
    }
   ],
   "source": [
    "target_duration=20\n",
    "cmd = [\n",
    "    FFMPEG_BINARY,\n",
    "    '-i', input_video_path,\n",
    "    '-filter_complex', f'[0:v]yadif=mode=1,tpad=stop_mode=clone:stop_duration={target_duration-duration}[v];[0:a]apad=pad_dur={target_duration-duration}[a]',\n",
    "    '-map', '[v]',\n",
    "    '-map', '[a]',\n",
    "    '-c:v', 'libx264', '-preset', 'slow', '-crf', '18',\n",
    "    '-c:a', 'aac', '-b:a', '192k',\n",
    "    '-r', str(frame_rate),\n",
    "    '-t', str(target_duration),\n",
    "    '-movflags', '+faststart',\n",
    "    '-y', output_video_path\n",
    "]\n",
    "flag, _, _ = exec_cmd(\" \".join(cmd).replace(\"\\n\", \" \"))\n",
    "flag"
   ]
  },
  {
   "cell_type": "code",
   "execution_count": 6,
   "metadata": {},
   "outputs": [
    {
     "name": "stdout",
     "output_type": "stream",
     "text": [
      "Get video information using ffmpeg [START]\n",
      "Get video information using ffmpeg [DONE]\n",
      "{'duration_seconds': 20.0, 'bitrate_kbps': 8209, 'width': 1920, 'height': 1080, 'integrated_loudness': -23.1, 'loudness_range': 5.3}\n",
      "frame_rate: 25.0; frame_count: 500, expected_frame_count: 500\n"
     ]
    },
    {
     "data": {
      "text/plain": [
       "True"
      ]
     },
     "execution_count": 6,
     "metadata": {},
     "output_type": "execute_result"
    }
   ],
   "source": [
    "expected_duration=target_duration\n",
    "print(get_video_info(output_video_path))\n",
    "cap = cv2.VideoCapture(output_video_path)\n",
    "# Get video properties\n",
    "frame_count = int(cap.get(cv2.CAP_PROP_FRAME_COUNT))\n",
    "frame_rate = cap.get(cv2.CAP_PROP_FPS)\n",
    "cap.release()\n",
    "# Calculate the expected frame count\n",
    "expected_frame_count = int(expected_duration * frame_rate)\n",
    "print(f\"frame_rate: {frame_rate}; frame_count: {frame_count}, expected_frame_count: {expected_frame_count}\")\n",
    "expected_frame_count==frame_count"
   ]
  },
  {
   "cell_type": "markdown",
   "metadata": {},
   "source": [
    "# Cas n 2"
   ]
  },
  {
   "cell_type": "markdown",
   "metadata": {},
   "source": [
    "## test 1"
   ]
  },
  {
   "cell_type": "code",
   "execution_count": 14,
   "metadata": {},
   "outputs": [
    {
     "name": "stdout",
     "output_type": "stream",
     "text": [
      "Get video information using ffmpeg [START]\n",
      "Get video information using ffmpeg [DONE]\n",
      "{'duration_seconds': 19.98, 'bitrate_kbps': 16699, 'width': 1920, 'height': 1080, 'integrated_loudness': -23.3, 'loudness_range': 2.5}\n",
      "frame_rate: 23.976023976023978; frame_count: 479, expected_frame_count: 479\n"
     ]
    },
    {
     "data": {
      "text/plain": [
       "True"
      ]
     },
     "execution_count": 14,
     "metadata": {},
     "output_type": "execute_result"
    }
   ],
   "source": [
    "input_video_path=r\"C:\\Users\\mohammed\\Desktop\\workdir\\app\\assets\\pubid_FR_IPNT_BRIV_PROM_0001_020_F.mp4\"\n",
    "output_video_path = os.path.join(os.path.dirname(os.path.abspath(input_video_path)),\"file_out2.mp4\")\n",
    "expected_duration=20\n",
    "\n",
    "info=get_video_info(input_video_path)\n",
    "print(info)\n",
    "duration=info['duration_seconds']\n",
    "cap = cv2.VideoCapture(input_video_path)\n",
    "# Get video properties\n",
    "width = int(cap.get(cv2.CAP_PROP_FRAME_WIDTH))\n",
    "height = int(cap.get(cv2.CAP_PROP_FRAME_HEIGHT))\n",
    "frame_count = int(cap.get(cv2.CAP_PROP_FRAME_COUNT))\n",
    "frame_rate = cap.get(cv2.CAP_PROP_FPS)\n",
    "# Calculate the expected frame count\n",
    "expected_frame_count = int(expected_duration * frame_rate)\n",
    "print(f\"frame_rate: {frame_rate}; frame_count: {frame_count}, expected_frame_count: {expected_frame_count}\")\n",
    "expected_frame_count==frame_count\n"
   ]
  },
  {
   "cell_type": "code",
   "execution_count": 12,
   "metadata": {},
   "outputs": [
    {
     "name": "stdout",
     "output_type": "stream",
     "text": [
      "Appel de la commande: C:/ffmpeg/bin/ffmpeg -i C:\\Users\\mohammed\\Desktop\\workdir\\app\\assets\\pubid_FR_IPNT_BRIV_PROM_0001_020_F.mp4 -filter_complex [0:v]yadif=mode=1,tpad=stop_mode=clone:stop_duration=0.019999999999999574[v];[0:a]apad=pad_dur=0.019999999999999574[a] -map [v] -map [a] -c:v libx264 -preset slow -crf 18 -c:a aac -b:a 192k -r 23.976023976023978 -t 20 -movflags +faststart -y C:\\Users\\mohammed\\Desktop\\workdir\\app\\assets\\file_out2.mp4\n",
      "Succès de la commande C:/ffmpeg/bin/ffmpeg -i C:\\Users\\mohammed\\Desktop\\workdir\\app\\assets\\pubid_FR_IPNT_BRIV_PROM_0001_020_F.mp4 -filter_complex [0:v]yadif=mode=1,tpad=stop_mode=clone:stop_duration=0.019999999999999574[v];[0:a]apad=pad_dur=0.019999999999999574[a] -map [v] -map [a] -c:v libx264 -preset slow -crf 18 -c:a aac -b:a 192k -r 23.976023976023978 -t 20 -movflags +faststart -y C:\\Users\\mohammed\\Desktop\\workdir\\app\\assets\\file_out2.mp4\n"
     ]
    },
    {
     "data": {
      "text/plain": [
       "True"
      ]
     },
     "execution_count": 12,
     "metadata": {},
     "output_type": "execute_result"
    }
   ],
   "source": [
    "target_duration=20\n",
    "cmd = [\n",
    "    FFMPEG_BINARY,\n",
    "    '-i', input_video_path,\n",
    "    '-filter_complex', f'[0:v]yadif=mode=1,tpad=stop_mode=clone:stop_duration={target_duration-duration}[v];[0:a]apad=pad_dur={target_duration-duration}[a]',\n",
    "    '-map', '[v]',\n",
    "    '-map', '[a]',\n",
    "    '-c:v', 'libx264', '-preset', 'slow', '-crf', '18',\n",
    "    '-c:a', 'aac', '-b:a', '192k',\n",
    "    '-r', str(frame_rate),\n",
    "    '-t', str(target_duration),\n",
    "    '-movflags', '+faststart',\n",
    "    '-y', output_video_path\n",
    "]\n",
    "flag, _, _ = exec_cmd(\" \".join(cmd).replace(\"\\n\", \" \"))\n",
    "flag"
   ]
  },
  {
   "cell_type": "code",
   "execution_count": 13,
   "metadata": {},
   "outputs": [
    {
     "name": "stdout",
     "output_type": "stream",
     "text": [
      "Get video information using ffmpeg [START]\n",
      "Get video information using ffmpeg [DONE]\n",
      "{'duration_seconds': 20.02, 'bitrate_kbps': 8064, 'width': 1920, 'height': 1080, 'integrated_loudness': -23.3, 'loudness_range': 2.4}\n",
      "frame_rate: 23.976023976023978; frame_count: 480, expected_frame_count: 479\n"
     ]
    },
    {
     "data": {
      "text/plain": [
       "False"
      ]
     },
     "execution_count": 13,
     "metadata": {},
     "output_type": "execute_result"
    }
   ],
   "source": [
    "expected_duration=target_duration\n",
    "print(get_video_info(output_video_path))\n",
    "cap = cv2.VideoCapture(output_video_path)\n",
    "# Get video properties\n",
    "frame_count = int(cap.get(cv2.CAP_PROP_FRAME_COUNT))\n",
    "frame_rate = cap.get(cv2.CAP_PROP_FPS)\n",
    "cap.release()\n",
    "# Calculate the expected frame count\n",
    "expected_frame_count = int(expected_duration * frame_rate)\n",
    "print(f\"frame_rate: {frame_rate}; frame_count: {frame_count}, expected_frame_count: {expected_frame_count}\")\n",
    "expected_frame_count==frame_count"
   ]
  },
  {
   "cell_type": "markdown",
   "metadata": {},
   "source": [
    "## Test 2"
   ]
  },
  {
   "cell_type": "code",
   "execution_count": 15,
   "metadata": {},
   "outputs": [
    {
     "name": "stdout",
     "output_type": "stream",
     "text": [
      "Get video information using ffmpeg [START]\n",
      "Get video information using ffmpeg [DONE]\n",
      "{'duration_seconds': 19.98, 'bitrate_kbps': 16699, 'width': 1920, 'height': 1080, 'integrated_loudness': -23.3, 'loudness_range': 2.5}\n",
      "frame_rate: 23.976023976023978; frame_count: 479, expected_frame_count: 479\n"
     ]
    },
    {
     "data": {
      "text/plain": [
       "True"
      ]
     },
     "execution_count": 15,
     "metadata": {},
     "output_type": "execute_result"
    }
   ],
   "source": [
    "input_video_path=r\"C:\\Users\\mohammed\\Desktop\\workdir\\app\\assets\\pubid_FR_IPNT_BRIV_PROM_0001_020_F.mp4\"\n",
    "output_video_path = os.path.join(os.path.dirname(os.path.abspath(input_video_path)),\"file_out2.mp4\")\n",
    "expected_duration=20\n",
    "\n",
    "info=get_video_info(input_video_path)\n",
    "print(info)\n",
    "duration=info['duration_seconds']\n",
    "cap = cv2.VideoCapture(input_video_path)\n",
    "# Get video properties\n",
    "width = int(cap.get(cv2.CAP_PROP_FRAME_WIDTH))\n",
    "height = int(cap.get(cv2.CAP_PROP_FRAME_HEIGHT))\n",
    "frame_count = int(cap.get(cv2.CAP_PROP_FRAME_COUNT))\n",
    "frame_rate = cap.get(cv2.CAP_PROP_FPS)\n",
    "# Calculate the expected frame count\n",
    "expected_frame_count = int(expected_duration * frame_rate)\n",
    "print(f\"frame_rate: {frame_rate}; frame_count: {frame_count}, expected_frame_count: {expected_frame_count}\")\n",
    "expected_frame_count==frame_count\n"
   ]
  },
  {
   "cell_type": "code",
   "execution_count": 17,
   "metadata": {},
   "outputs": [
    {
     "name": "stdout",
     "output_type": "stream",
     "text": [
      "Appel de la commande: C:/ffmpeg/bin/ffmpeg -i C:\\Users\\mohammed\\Desktop\\workdir\\app\\assets\\pubid_FR_IPNT_BRIV_PROM_0001_020_F.mp4 -filter_complex [0:v]yadif=mode=1,fps=fps=25,tpad=stop_mode=clone:stop_duration=0.019999999999999574[v];[0:a]asetrate=50050.0,aresample=48000,apad=pad_dur=0.019999999999999574[a] -map [v] -map [a] -c:v libx264 -preset slow -crf 18 -c:a aac -b:a 192k -r 23.976023976023978 -t 20 -movflags +faststart -y C:\\Users\\mohammed\\Desktop\\workdir\\app\\assets\\file_out2.mp4\n",
      "Succès de la commande C:/ffmpeg/bin/ffmpeg -i C:\\Users\\mohammed\\Desktop\\workdir\\app\\assets\\pubid_FR_IPNT_BRIV_PROM_0001_020_F.mp4 -filter_complex [0:v]yadif=mode=1,fps=fps=25,tpad=stop_mode=clone:stop_duration=0.019999999999999574[v];[0:a]asetrate=50050.0,aresample=48000,apad=pad_dur=0.019999999999999574[a] -map [v] -map [a] -c:v libx264 -preset slow -crf 18 -c:a aac -b:a 192k -r 23.976023976023978 -t 20 -movflags +faststart -y C:\\Users\\mohammed\\Desktop\\workdir\\app\\assets\\file_out2.mp4\n"
     ]
    },
    {
     "data": {
      "text/plain": [
       "True"
      ]
     },
     "execution_count": 17,
     "metadata": {},
     "output_type": "execute_result"
    }
   ],
   "source": [
    "target_duration=20\n",
    "cmd = [\n",
    "    FFMPEG_BINARY,\n",
    "    '-i', input_video_path,\n",
    "    '-filter_complex', \n",
    "    # f'''\n",
    "    # [0:v]minterpolate='mi_mode=mci:mc_mode=aobmc:vsbmc=1:fps=25',\n",
    "    #     tpad=stop_mode=clone:stop_duration={20-19.98}[v];\n",
    "    # [0:a]asetrate={48000*25/23.976023976023978},aresample=48000,\n",
    "    #     apad=pad_dur={20-19.98}[a]\n",
    "    # ''',\n",
    "    f'[0:v]yadif=mode=1,fps=fps=25,tpad=stop_mode=clone:stop_duration={20-19.98}[v];'\n",
    "    f'[0:a]asetrate={48000*25/23.976023976023978},aresample=48000,apad=pad_dur={20-19.98}[a]',\n",
    "    '-map', '[v]',\n",
    "    '-map', '[a]',\n",
    "    '-c:v', 'libx264', '-preset', 'slow', '-crf', '18',\n",
    "    '-c:a', 'aac', '-b:a', '192k',\n",
    "    '-r', str(frame_rate),\n",
    "    '-t', str(target_duration),\n",
    "    '-movflags', '+faststart',\n",
    "    '-y', output_video_path\n",
    "]\n",
    "flag, _, _ = exec_cmd(\" \".join(cmd).replace(\"\\n\", \" \"))\n",
    "flag"
   ]
  },
  {
   "cell_type": "code",
   "execution_count": 18,
   "metadata": {},
   "outputs": [
    {
     "name": "stdout",
     "output_type": "stream",
     "text": [
      "Get video information using ffmpeg [START]\n",
      "Get video information using ffmpeg [DONE]\n",
      "{'duration_seconds': 20.02, 'bitrate_kbps': 7956, 'width': 1920, 'height': 1080, 'integrated_loudness': -23.2, 'loudness_range': 2.4}\n",
      "frame_rate: 23.976023976023978; frame_count: 480, expected_frame_count: 479\n"
     ]
    },
    {
     "data": {
      "text/plain": [
       "False"
      ]
     },
     "execution_count": 18,
     "metadata": {},
     "output_type": "execute_result"
    }
   ],
   "source": [
    "expected_duration=target_duration\n",
    "print(get_video_info(output_video_path))\n",
    "cap = cv2.VideoCapture(output_video_path)\n",
    "# Get video properties\n",
    "frame_count = int(cap.get(cv2.CAP_PROP_FRAME_COUNT))\n",
    "frame_rate = cap.get(cv2.CAP_PROP_FPS)\n",
    "cap.release()\n",
    "# Calculate the expected frame count\n",
    "expected_frame_count = int(expected_duration * frame_rate)\n",
    "print(f\"frame_rate: {frame_rate}; frame_count: {frame_count}, expected_frame_count: {expected_frame_count}\")\n",
    "expected_frame_count==frame_count"
   ]
  },
  {
   "cell_type": "markdown",
   "metadata": {},
   "source": []
  },
  {
   "cell_type": "code",
   "execution_count": 4,
   "metadata": {},
   "outputs": [
    {
     "name": "stdout",
     "output_type": "stream",
     "text": [
      "Appel de la commande: C:/ffmpeg/bin/ffmpeg -i \"C:\\Users\\mohammed\\Desktop\\workdir\\app\\assets\\pubid_FR_IPNT_BRIV_PROM_0001_020_F.mp4\"  -vf \"fps=25\" -af \"apad\" -r 25 -g 12 -ss 00:00:00.000 -t 00:00:20.000 -c:v libx264 -preset slow -crf 23 -c:a aac -b:a 128k \"C:\\Users\\mohammed\\Desktop\\workdir\\app\\assets\\file_out.mp4\" -y\n",
      "Succès de la commande C:/ffmpeg/bin/ffmpeg -i \"C:\\Users\\mohammed\\Desktop\\workdir\\app\\assets\\pubid_FR_IPNT_BRIV_PROM_0001_020_F.mp4\"  -vf \"fps=25\" -af \"apad\" -r 25 -g 12 -ss 00:00:00.000 -t 00:00:20.000 -c:v libx264 -preset slow -crf 23 -c:a aac -b:a 128k \"C:\\Users\\mohammed\\Desktop\\workdir\\app\\assets\\file_out.mp4\" -y\n"
     ]
    },
    {
     "data": {
      "text/plain": [
       "True"
      ]
     },
     "execution_count": 4,
     "metadata": {},
     "output_type": "execute_result"
    }
   ],
   "source": [
    "cap.release()\n",
    "cmd=f'{FFMPEG_BINARY} -i \"{input_video_path}\" '\n",
    "# cmd+=f'-filter:v \"setpts=1.001*PTS,fps=25\" ' # 20/19.98 = 1.001*PTS\n",
    "# cmd+=f'-filter:v \"fps=25,setpts=(19.98/20)*PTS\" '\n",
    "# cmd+=f'-filter_complex \"[0:v]fps=25,split[v1][v2];[v1]trim=duration=19.98[v1trim];[v2]trim=start=19.98,setpts=PTS-STARTPTS[v2trim];[v1trim][v2trim]concat=n=2:v=1:a=0\" '\n",
    "# cmd+=f''' -filter_complex \"[0:v]fps=25,select='if(gte(n,499),499,n)',loop=500:1:499[v]\" -map \"[v]\" '''\n",
    "# cmd+='-vf \"fps=25,pad=width=iw:height=ih:color=black:duration=20\" '\n",
    "# cmd+=f''' -vf \"fps=25,select='if(gte(n,499),499,n)',setpts=N/25/TB\" -af \"apad\" '''\n",
    "cmd+=f''' -vf \"fps=25\" -af \"apad\" -r 25 -g 12 '''\n",
    "cmd+=f'-ss 00:00:00.000 -t 00:00:{expected_duration}.000 '\n",
    "cmd+=f'-c:v libx264 -preset slow -crf 23 -c:a aac -b:a 128k '\n",
    "cmd+=f'\"{output_video_path}\" -y'\n",
    "# print(cmd)\n",
    "flag, v1, v2 = exec_cmd(str(cmd).replace(\"\\n\", \" \"))\n",
    "flag"
   ]
  },
  {
   "cell_type": "code",
   "execution_count": 9,
   "metadata": {},
   "outputs": [
    {
     "name": "stdout",
     "output_type": "stream",
     "text": [
      "Get video information using ffmpeg [START]\n",
      "Error: Command '['C:/ffmpeg/bin/ffmpeg', '-i', 'C:\\\\Users\\\\mohammed\\\\Desktop\\\\workdir\\\\app\\\\assets\\\\file_out_out.mp4', '-af', 'ebur128=peak=true', '-f', 'null', '-']' returned non-zero exit status 4294967294.\n",
      "None\n",
      "frame_rate: 0.0; frame_count: 0, expected_frame_count: 0\n"
     ]
    },
    {
     "data": {
      "text/plain": [
       "True"
      ]
     },
     "execution_count": 9,
     "metadata": {},
     "output_type": "execute_result"
    }
   ],
   "source": [
    "input_video_path=\"C:/Users/mohammed/Desktop/workdir/app/assets/file_out.mp4\"\n",
    "output_video_path = os.path.join(os.path.dirname(os.path.abspath(input_video_path)),\"file_out_out.mp4\")\n",
    "silence_video_path = os.path.join(os.path.dirname(os.path.abspath(output_video_path)),\"file_silence.mp4\")\n",
    "if os.path.exists(output_video_path):\n",
    "    os.remove(output_video_path)\n",
    "if os.path.exists(silence_video_path):\n",
    "    os.remove(silence_video_path)\n",
    "print(get_video_info(input_video_path))\n",
    "\n",
    "cap = cv2.VideoCapture(input_video_path)\n",
    "# Get video properties\n",
    "width = int(cap.get(cv2.CAP_PROP_FRAME_WIDTH))\n",
    "height = int(cap.get(cv2.CAP_PROP_FRAME_HEIGHT))\n",
    "frame_count = int(cap.get(cv2.CAP_PROP_FRAME_COUNT))\n",
    "frame_rate = cap.get(cv2.CAP_PROP_FPS)\n",
    "# Calculate the expected frame count\n",
    "expected_frame_count = int(expected_duration * frame_rate)\n",
    "# cap.release()\n",
    "print(f\"frame_rate: {frame_rate}; frame_count: {frame_count}, expected_frame_count: {expected_frame_count}\")\n",
    "expected_frame_count==frame_count"
   ]
  },
  {
   "cell_type": "code",
   "execution_count": 10,
   "metadata": {},
   "outputs": [
    {
     "name": "stdout",
     "output_type": "stream",
     "text": [
      "incorect_frame_count: 0\n",
      "1\n",
      "cnt: 0\n"
     ]
    }
   ],
   "source": [
    "incorect_frame_count = expected_frame_count-frame_count\n",
    "print(\"incorect_frame_count:\",incorect_frame_count)\n",
    "\n",
    "# Create a VideoWriter object to write the new video\n",
    "fourcc = cv2.VideoWriter_fourcc(*'mp4v')\n",
    "out = cv2.VideoWriter(silence_video_path, fourcc, frame_rate, (width, height))\n",
    "\n",
    "# Write the original frames to the new video except the last one\n",
    "cap.set(cv2.CAP_PROP_POS_FRAMES, 0)\n",
    "\n",
    "if expected_frame_count < frame_count:\n",
    "    for _ in range(int(expected_frame_count)):\n",
    "        ret, frame = cap.read()\n",
    "        if not ret:\n",
    "            break\n",
    "        out.write(frame)\n",
    "else:\n",
    "    print(\"1\")\n",
    "    cnt=0\n",
    "    # Write the original frames to the new video\n",
    "    while cap.isOpened():\n",
    "        ret, frame = cap.read()\n",
    "        if not ret:\n",
    "            break\n",
    "        out.write(frame)\n",
    "        cnt+=1\n",
    "\n",
    "    # Read the last frame\n",
    "    cap.set(cv2.CAP_PROP_POS_FRAMES, frame_count - 1)\n",
    "    ret, last_frame = cap.read()\n",
    "\n",
    "    # Write the duplicated last frame to the new video\n",
    "    for _ in range(int(incorect_frame_count)):\n",
    "        out.write(last_frame)\n",
    "        cnt+=1\n",
    "\n",
    "print(\"cnt:\",cnt)\n",
    "# Release the VideoCapture and VideoWriter objects\n",
    "cap.release()\n",
    "out.release()\n"
   ]
  },
  {
   "cell_type": "code",
   "execution_count": 24,
   "metadata": {},
   "outputs": [
    {
     "name": "stdout",
     "output_type": "stream",
     "text": [
      "Appel de la commande: ffmpeg -i \"C:\\Users\\mohammed\\Desktop\\workdir\\app\\assets\\file_silence.mp4\" -i \"C:\\Users\\mohammed\\Desktop\\workdir\\app\\assets\\1080p.mp4\" -c copy -map 0:v:0 -map 1:a:0 -y \"C:\\Users\\mohammed\\Desktop\\workdir\\app\\assets\\1080p_2.mp4\" \n",
      "Succès de la commande ffmpeg -i \"C:\\Users\\mohammed\\Desktop\\workdir\\app\\assets\\file_silence.mp4\" -i \"C:\\Users\\mohammed\\Desktop\\workdir\\app\\assets\\1080p.mp4\" -c copy -map 0:v:0 -map 1:a:0 -y \"C:\\Users\\mohammed\\Desktop\\workdir\\app\\assets\\1080p_2.mp4\" \n"
     ]
    },
    {
     "data": {
      "text/plain": [
       "True"
      ]
     },
     "execution_count": 24,
     "metadata": {},
     "output_type": "execute_result"
    }
   ],
   "source": [
    "FFMPEG_BINARY=\"ffmpeg\"\n",
    "cmd = f\"\"\"{FFMPEG_BINARY} -i \"{silence_video_path}\" -i \"{input_video_path}\" -c copy -map 0:v:0 -map 1:a:0 -y \"{output_video_path}\" \"\"\"\n",
    "# cmd = f\"\"\"{FFMPEG_BINARY} -i \"{silence_video_path}\" -i \"{input_video_path}\" -c copy -map 0:v -map 1:a -y \"{output_video_path}\" \"\"\"\n",
    "\n",
    "flag, _, _ = exec_cmd(str(cmd).replace(\"\\n\", \" \"))\n",
    "flag"
   ]
  },
  {
   "cell_type": "code",
   "execution_count": 25,
   "metadata": {},
   "outputs": [
    {
     "name": "stdout",
     "output_type": "stream",
     "text": [
      "Get video information using ffmpeg [START]\n",
      "Get video information using ffmpeg [DONE]\n",
      "{'duration_seconds': 20.0, 'bitrate_kbps': 10216, 'width': 1920, 'height': 1080, 'integrated_loudness': -23.3, 'loudness_range': 2.4}\n",
      "frame_rate: 25.0; frame_count: 500, expected_frame_count: 500\n"
     ]
    },
    {
     "data": {
      "text/plain": [
       "True"
      ]
     },
     "execution_count": 25,
     "metadata": {},
     "output_type": "execute_result"
    }
   ],
   "source": [
    "expected_duration=20\n",
    "print(get_video_info(output_video_path))\n",
    "\n",
    "import cv2\n",
    "cap = cv2.VideoCapture(output_video_path)\n",
    "# Get video properties\n",
    "width = int(cap.get(cv2.CAP_PROP_FRAME_WIDTH))\n",
    "height = int(cap.get(cv2.CAP_PROP_FRAME_HEIGHT))\n",
    "frame_count = int(cap.get(cv2.CAP_PROP_FRAME_COUNT))\n",
    "frame_rate = cap.get(cv2.CAP_PROP_FPS)\n",
    "# Calculate the expected frame count\n",
    "expected_frame_count = int(expected_duration * frame_rate)\n",
    "cap.release()\n",
    "print(f\"frame_rate: {frame_rate}; frame_count: {frame_count}, expected_frame_count: {expected_frame_count}\")\n",
    "expected_frame_count==frame_count"
   ]
  },
  {
   "cell_type": "code",
   "execution_count": 39,
   "metadata": {},
   "outputs": [
    {
     "name": "stdout",
     "output_type": "stream",
     "text": [
      "Appel de la commande: ffmpeg -i \"C:\\Users\\mohammed\\Desktop\\workdir\\app\\assets\\pubid_FR_IPNT_BRIV_PROM_0001_020_F.mp4\" -f mp4 -s 640x360 -vf scale=640:360 -aspect 16:9 -r 25 -g 12 -c:v libx264 -crf 23 -preset slow -c:a aac -b:a 128k -ss 00:00:00.000 -t 00:00:20.000 \"C:/Users/mohammed/Desktop/workdir/app/assets/360p.mp4\" -y -f mp4 -s 854x480 -vf scale=854:480 -aspect 16:9 -r 25 -g 12 -c:v libx264 -crf 23 -preset slow -c:a aac -b:a 128k -ss 00:00:00.000 -t 00:00:20.000 \"C:/Users/mohammed/Desktop/workdir/app/assets/480p.mp4\" -y -f mp4 -s 1280x720 -vf scale=1280:720 -aspect 16:9 -r 25 -g 12 -c:v libx264 -crf 23 -preset slow -c:a aac -b:a 192k -ss 00:00:00.000 -t 00:00:20.000 \"C:/Users/mohammed/Desktop/workdir/app/assets/720p.mp4\" -y -f mp4 -s 1920x1080 -vf scale=1920:1080 -aspect 16:9 -r 25 -g 12 -c:v libx264 -crf 23 -preset slow -c:a aac -b:a 192k -ss 00:00:00.000 -t 00:00:20.000 \"C:/Users/mohammed/Desktop/workdir/app/assets/1080p.mp4\" -y \n",
      "Succès de la commande ffmpeg -i \"C:\\Users\\mohammed\\Desktop\\workdir\\app\\assets\\pubid_FR_IPNT_BRIV_PROM_0001_020_F.mp4\" -f mp4 -s 640x360 -vf scale=640:360 -aspect 16:9 -r 25 -g 12 -c:v libx264 -crf 23 -preset slow -c:a aac -b:a 128k -ss 00:00:00.000 -t 00:00:20.000 \"C:/Users/mohammed/Desktop/workdir/app/assets/360p.mp4\" -y -f mp4 -s 854x480 -vf scale=854:480 -aspect 16:9 -r 25 -g 12 -c:v libx264 -crf 23 -preset slow -c:a aac -b:a 128k -ss 00:00:00.000 -t 00:00:20.000 \"C:/Users/mohammed/Desktop/workdir/app/assets/480p.mp4\" -y -f mp4 -s 1280x720 -vf scale=1280:720 -aspect 16:9 -r 25 -g 12 -c:v libx264 -crf 23 -preset slow -c:a aac -b:a 192k -ss 00:00:00.000 -t 00:00:20.000 \"C:/Users/mohammed/Desktop/workdir/app/assets/720p.mp4\" -y -f mp4 -s 1920x1080 -vf scale=1920:1080 -aspect 16:9 -r 25 -g 12 -c:v libx264 -crf 23 -preset slow -c:a aac -b:a 192k -ss 00:00:00.000 -t 00:00:20.000 \"C:/Users/mohammed/Desktop/workdir/app/assets/1080p.mp4\" -y \n"
     ]
    },
    {
     "data": {
      "text/plain": [
       "True"
      ]
     },
     "execution_count": 39,
     "metadata": {},
     "output_type": "execute_result"
    }
   ],
   "source": [
    "cmd=f'{FFMPEG_BINARY} -i \"{input_video_path}\" '\n",
    "for w, h in [(640,360), (854,480), (1280,720), (1920,1080)]:\n",
    "    cmd+=f'''-f mp4 -s {w}x{h} -vf scale={w}:{h} -aspect 16:9 -r 25 -g 12 -c:v libx264 -crf 23 -preset slow -c:a aac -b:a {'128k' if h<=480 else '192k'} -ss 00:00:00.000 -t 00:00:{expected_duration}.000 \"C:/Users/mohammed/Desktop/workdir/app/assets/{h}p.mp4\" -y '''\n",
    "    # cmd+=f''' -f mp4 -c:v mpeg2video -pix_fmt yuv422p -profile:v 0 -s {w}x{h} -vf \"scale={w}:{h}\" -aspect 16:9 -r 25 -g 12 -c:a aac -b:a {'128k' if h<=480 else '192k'} \"C:/Users/mohammed/Desktop/workdir/app/assets/{h}p.mp4\" -y '''\n",
    "\n",
    "flag, v1, v2 = exec_cmd(str(cmd).replace(\"\\n\", \" \"))\n",
    "flag"
   ]
  },
  {
   "cell_type": "code",
   "execution_count": null,
   "metadata": {},
   "outputs": [],
   "source": []
  }
 ],
 "metadata": {
  "kernelspec": {
   "display_name": "Python 3",
   "language": "python",
   "name": "python3"
  },
  "language_info": {
   "codemirror_mode": {
    "name": "ipython",
    "version": 3
   },
   "file_extension": ".py",
   "mimetype": "text/x-python",
   "name": "python",
   "nbconvert_exporter": "python",
   "pygments_lexer": "ipython3",
   "version": "3.9.13"
  }
 },
 "nbformat": 4,
 "nbformat_minor": 2
}
