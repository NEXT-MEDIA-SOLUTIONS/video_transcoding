{
 "cells": [
  {
   "cell_type": "code",
   "execution_count": 1,
   "metadata": {},
   "outputs": [
    {
     "data": {
      "text/html": [
       "<div>\n",
       "<style scoped>\n",
       "    .dataframe tbody tr th:only-of-type {\n",
       "        vertical-align: middle;\n",
       "    }\n",
       "\n",
       "    .dataframe tbody tr th {\n",
       "        vertical-align: top;\n",
       "    }\n",
       "\n",
       "    .dataframe thead th {\n",
       "        text-align: right;\n",
       "    }\n",
       "</style>\n",
       "<table border=\"1\" class=\"dataframe\">\n",
       "  <thead>\n",
       "    <tr style=\"text-align: right;\">\n",
       "      <th></th>\n",
       "      <th>a</th>\n",
       "      <th>b</th>\n",
       "      <th>c</th>\n",
       "    </tr>\n",
       "  </thead>\n",
       "  <tbody>\n",
       "    <tr>\n",
       "      <th>0</th>\n",
       "      <td>1</td>\n",
       "      <td>2</td>\n",
       "      <td>3</td>\n",
       "    </tr>\n",
       "    <tr>\n",
       "      <th>1</th>\n",
       "      <td>4</td>\n",
       "      <td>5</td>\n",
       "      <td>6</td>\n",
       "    </tr>\n",
       "  </tbody>\n",
       "</table>\n",
       "</div>"
      ],
      "text/plain": [
       "   a  b  c\n",
       "0  1  2  3\n",
       "1  4  5  6"
      ]
     },
     "execution_count": 1,
     "metadata": {},
     "output_type": "execute_result"
    }
   ],
   "source": [
    "import pandas as pd \n",
    "df = pd.DataFrame([(1,2,3),(4,5,6)], columns=[\"A\",\"B\",\"c\"])\n",
    "df.columns = [c.lower() for c in df.columns]\n",
    "df"
   ]
  },
  {
   "cell_type": "code",
   "execution_count": 4,
   "metadata": {},
   "outputs": [
    {
     "data": {
      "text/plain": [
       "2"
      ]
     },
     "execution_count": 4,
     "metadata": {},
     "output_type": "execute_result"
    }
   ],
   "source": [
    "df.loc[0,\"b\"]"
   ]
  },
  {
   "cell_type": "code",
   "execution_count": 21,
   "metadata": {},
   "outputs": [
    {
     "name": "stdout",
     "output_type": "stream",
     "text": [
      "30\n"
     ]
    }
   ],
   "source": [
    "pub_id =\"pubid_FR_DDBP_VOLK_CFOR_0050_030_F\"\n",
    "# pub_id =\"pubid_FR_TLJA_RBNB_ABNB_0040_015_F\"\n",
    "# pub_id =\"pubid_FR_TRAF_EASY_SPRI_0002_020_F\"\n",
    "# pub_id =\"FR_TRAF_EASY_SPRI_0_002_020_F\"\n",
    "\n",
    "import re\n",
    "matches = re.findall(r'_(\\d{3})_', pub_id)\n",
    "# Return the last match if there are any matches\n",
    "if matches:\n",
    "    print(int(matches[0]))"
   ]
  },
  {
   "cell_type": "code",
   "execution_count": 22,
   "metadata": {},
   "outputs": [
    {
     "name": "stdout",
     "output_type": "stream",
     "text": [
      "30\n"
     ]
    }
   ],
   "source": [
    "\n",
    "for token in pub_id.split(\"_\"):\n",
    "            if len(token)==3 :\n",
    "                try:\n",
    "                    expected_duration = int(token)\n",
    "                except: pass\n",
    "print(expected_duration)"
   ]
  },
  {
   "cell_type": "code",
   "execution_count": 9,
   "metadata": {},
   "outputs": [
    {
     "name": "stdout",
     "output_type": "stream",
     "text": [
      "frame_rate:25.0, frame_count: 501, expected_frame_count:525.0, incorrect_frame_count: 24.0\n"
     ]
    }
   ],
   "source": [
    "import cv2, os\n",
    "import subprocess\n",
    "\n",
    "# Path to the input video file\n",
    "input_video_path = \"C:/Users/mohammed/Desktop/workdir/app/data/video_simples/pubid_FR_HRZI_COFI_PRPE_0137_020_F_1709724332_kantar_480x270.mp4\"\n",
    "output_video_path = \"C:/Users/mohammed/Desktop/workdir/app/data/video_encoded/pubid_FR_HRZI_COFI_PRPE_0137_020_F_1709724332_kantar_480x270_tmp.mp4\"\n",
    "final_output_path = \"C:/Users/mohammed/Desktop/workdir/app/data/video_encoded/pubid_FR_HRZI_COFI_PRPE_0137_020_F_1709724332_kantar_480x270.mp4\"\n",
    "if os.path.isfile(output_video_path):\n",
    "    os.remove(output_video_path)\n",
    "if os.path.isfile(final_output_path):\n",
    "    os.remove(final_output_path)\n",
    "# Open the video file\n",
    "cap = cv2.VideoCapture(input_video_path)\n",
    "\n",
    "# Get video properties\n",
    "frame_count = int(cap.get(cv2.CAP_PROP_FRAME_COUNT))\n",
    "frame_rate = cap.get(cv2.CAP_PROP_FPS)\n",
    "width = int(cap.get(cv2.CAP_PROP_FRAME_WIDTH))\n",
    "height = int(cap.get(cv2.CAP_PROP_FRAME_HEIGHT))\n",
    "\n",
    "# Calculate the expected frame count\n",
    "expected_duration = 21  # seconds\n",
    "expected_frame_count = expected_duration * frame_rate\n",
    "incorrect_frame_count = expected_frame_count - frame_count\n",
    "print(f\"frame_rate:{frame_rate}, frame_count: {frame_count}, expected_frame_count:{expected_frame_count}, incorrect_frame_count: {incorrect_frame_count}\")\n"
   ]
  },
  {
   "cell_type": "code",
   "execution_count": 10,
   "metadata": {},
   "outputs": [],
   "source": [
    "# Create a VideoWriter object to write the new video\n",
    "fourcc = cv2.VideoWriter_fourcc(*'mp4v')\n",
    "out = cv2.VideoWriter(output_video_path, fourcc, frame_rate, (width, height))\n",
    "\n",
    "# Write the original frames to the new video except the last one\n",
    "cap.set(cv2.CAP_PROP_POS_FRAMES, 0)\n",
    "for i in range(int(expected_frame_count)):\n",
    "    ret, frame = cap.read()\n",
    "    if not ret:\n",
    "        break\n",
    "    out.write(frame)\n",
    "\n",
    "\n",
    "if incorrect_frame_count < 0:\n",
    "    for i in range(int(expected_frame_count)):\n",
    "        ret, frame = cap.read()\n",
    "        if not ret:\n",
    "            break\n",
    "        out.write(frame)\n",
    "else:\n",
    "    # Write the original frames to the new video\n",
    "    while cap.isOpened():\n",
    "        ret, frame = cap.read()\n",
    "        if not ret:\n",
    "            break\n",
    "        out.write(frame)\n",
    "\n",
    "    # Read the last frame\n",
    "    cap.set(cv2.CAP_PROP_POS_FRAMES, frame_count - 1)\n",
    "    ret, last_frame = cap.read()\n",
    "\n",
    "    # Write the duplicated last frame to the new video\n",
    "    for _ in range(int(incorrect_frame_count)):\n",
    "        out.write(last_frame)\n",
    "\n",
    "\n",
    "# Release the VideoCapture and VideoWriter objects\n",
    "cap.release()\n",
    "out.release()\n"
   ]
  },
  {
   "cell_type": "code",
   "execution_count": 11,
   "metadata": {},
   "outputs": [
    {
     "name": "stdout",
     "output_type": "stream",
     "text": [
      "ffmpeg -i C:/Users/mohammed/Desktop/workdir/app/data/video_encoded/pubid_FR_HRZI_COFI_PRPE_0137_020_F_1709724332_kantar_480x270_tmp.mp4 -i C:/Users/mohammed/Desktop/workdir/app/data/video_simples/pubid_FR_HRZI_COFI_PRPE_0137_020_F_1709724332_kantar_480x270.mp4 -c copy -map 0:v:0 -map 1:a:0 C:/Users/mohammed/Desktop/workdir/app/data/video_encoded/pubid_FR_HRZI_COFI_PRPE_0137_020_F_1709724332_kantar_480x270.mp4\n"
     ]
    }
   ],
   "source": [
    "\n",
    "\n",
    "# Use FFmpeg to merge the new video with the original audio\n",
    "command = [\n",
    "    'ffmpeg',\n",
    "    '-i', output_video_path,\n",
    "    '-i', input_video_path,\n",
    "    '-c', 'copy',\n",
    "    '-map', '0:v:0',\n",
    "    '-map', '1:a:0',\n",
    "    final_output_path\n",
    "]\n",
    "\n",
    "print(\" \".join(command))\n",
    "# subprocess.run(command)\n",
    "\n",
    "# print(f\"Final video saved as {final_output_path}\")\n"
   ]
  },
  {
   "cell_type": "code",
   "execution_count": 5,
   "metadata": {},
   "outputs": [
    {
     "data": {
      "text/plain": [
       "1593146"
      ]
     },
     "execution_count": 5,
     "metadata": {},
     "output_type": "execute_result"
    }
   ],
   "source": [
    "1900346 - (300*1024)"
   ]
  },
  {
   "cell_type": "code",
   "execution_count": 6,
   "metadata": {},
   "outputs": [
    {
     "data": {
      "text/plain": [
       "351.0439453125"
      ]
     },
     "execution_count": 6,
     "metadata": {},
     "output_type": "execute_result"
    }
   ],
   "source": [
    "359469/1024"
   ]
  },
  {
   "cell_type": "code",
   "execution_count": null,
   "metadata": {},
   "outputs": [],
   "source": [
    "import cv2\n",
    "from moviepy.editor import VideoFileClip, AudioFileClip\n",
    "\n",
    "# Path to the input video file\n",
    "input_video_path = 'input_video.mp4'\n",
    "output_video_path = 'output_video.mp4'\n",
    "final_output_path = 'final_output.mp4'\n",
    "audio_path = 'audio.mp3'\n",
    "\n",
    "# Open the video file\n",
    "cap = cv2.VideoCapture(input_video_path)\n",
    "\n",
    "# Get video properties\n",
    "frame_count = int(cap.get(cv2.CAP_PROP_FRAME_COUNT))\n",
    "frame_rate = cap.get(cv2.CAP_PROP_FPS)\n",
    "width = int(cap.get(cv2.CAP_PROP_FRAME_WIDTH))\n",
    "height = int(cap.get(cv2.CAP_PROP_FRAME_HEIGHT))\n",
    "\n",
    "# Calculate the expected frame count\n",
    "expected_duration = 15  # seconds\n",
    "expected_frame_count = expected_duration * frame_rate\n",
    "incorrect_frame_count = expected_frame_count - frame_count\n",
    "\n",
    "# Read the last frame\n",
    "cap.set(cv2.CAP_PROP_POS_FRAMES, frame_count - 1)\n",
    "ret, last_frame = cap.read()\n",
    "\n",
    "# Create a VideoWriter object to write the new video\n",
    "fourcc = cv2.VideoWriter_fourcc(*'mp4v')\n",
    "out = cv2.VideoWriter(output_video_path, fourcc, frame_rate, (width, height))\n",
    "\n",
    "# Write the original frames to the new video\n",
    "cap.set(cv2.CAP_PROP_POS_FRAMES, 0)\n",
    "while cap.isOpened():\n",
    "    ret, frame = cap.read()\n",
    "    if not ret:\n",
    "        break\n",
    "    out.write(frame)\n",
    "\n",
    "# Write the duplicated last frame to the new video\n",
    "for _ in range(int(incorrect_frame_count)):\n",
    "    out.write(last_frame)\n",
    "\n",
    "# Release the VideoCapture and VideoWriter objects\n",
    "cap.release()\n",
    "out.release()\n",
    "\n",
    "# Use moviepy to add the audio to the video\n",
    "video_clip = VideoFileClip(output_video_path)\n",
    "audio_clip = AudioFileClip(audio_path)\n",
    "final_clip = video_clip.set_audio(audio_clip)\n",
    "final_clip.write_videofile(final_output_path, codec='libx264', audio_codec='aac')\n",
    "\n",
    "print(f\"Final video saved as {final_output_path}\")\n"
   ]
  },
  {
   "cell_type": "code",
   "execution_count": 13,
   "metadata": {},
   "outputs": [
    {
     "data": {
      "text/plain": [
       "14"
      ]
     },
     "execution_count": 13,
     "metadata": {},
     "output_type": "execute_result"
    }
   ],
   "source": [
    "len(\"AMAC0000000002\")"
   ]
  },
  {
   "cell_type": "code",
   "execution_count": 5,
   "metadata": {},
   "outputs": [
    {
     "name": "stdout",
     "output_type": "stream",
     "text": [
      "{'duration_seconds': 15.0, 'bitrate_kbps': 15628, 'width': 1920, 'height': 1080}\n"
     ]
    }
   ],
   "source": [
    "import subprocess, re\n",
    "\n",
    "def get_video_info(video_path):\n",
    "    \"\"\"\n",
    "    Extracts duration, width, height, and bitrate from a video file using ffmpeg.\n",
    "\n",
    "    Args:\n",
    "        video_path (str): The path to the video file.\n",
    "\n",
    "    Returns:\n",
    "        dict: A dictionary containing the extracted information.\n",
    "    \"\"\"\n",
    "\n",
    "    command = [\n",
    "        \"C:\\\\ffmpeg\\\\bin\\\\ffmpeg.exe\",\n",
    "        \"-i\",\n",
    "        video_path,\n",
    "        \"-af\",\n",
    "        \"ebur128=peak=true\",\n",
    "        \"-f\",\n",
    "        \"null\",\n",
    "        \"-\"\n",
    "    ]\n",
    "\n",
    "    result = subprocess.run(command, capture_output=True, text=True)\n",
    "\n",
    "    if result.returncode != 0:\n",
    "        raise Exception(f\"Error running ffmpeg: {result.stderr}\")\n",
    "\n",
    "    info = {}\n",
    "    \n",
    "    \n",
    "    # result = sp.run(command, capture_output=True, text=True, check=True)\n",
    "            # Extracting Max True Peak Level from FFmpeg output\n",
    "            # output_lines = result.stderr.split(\"Summary:\")[-1].strip().split('\\n')\n",
    "            \n",
    "    for line in result.stderr.splitlines():\n",
    "        if \"Duration\" in line:\n",
    "            # Extraction de la durée au format HH:MM:SS.SS et conversion en secondes\n",
    "            match = re.search(r\"Duration: (\\d{2}):(\\d{2}):(\\d{2})\\.(\\d{2})\", line)\n",
    "            if match:\n",
    "                hours, minutes, seconds, milliseconds = map(int, match.groups())\n",
    "                duration_seconds = hours * 3600 + minutes * 60 + seconds + milliseconds / 100\n",
    "                info[\"duration_seconds\"] = duration_seconds\n",
    "        if \"bitrate\" in line:\n",
    "            # Extraction du débit binaire et conversion en kb/s\n",
    "            match = re.search(r\"bitrate: (\\d+) kb/s\", line)\n",
    "            if match:\n",
    "                info[\"bitrate_kbps\"] = int(match.group(1))\n",
    "        elif \"Stream\" in line:\n",
    "            # Extraction de la largeur et de la hauteur\n",
    "            width_height_match = re.search(r\"(\\d+)x(\\d+)\", line)\n",
    "            if width_height_match:\n",
    "                info[\"width\"] = int(width_height_match.group(1))\n",
    "                info[\"height\"] = int(width_height_match.group(2))\n",
    "        elif \"Audio loudness\" in line:\n",
    "            info[\"audio_loudness\"] = line.split(\"=\")[1].strip()\n",
    "        \n",
    "\n",
    "    return info\n",
    "\n",
    "# Example usage\n",
    "video_path = \"C:\\\\Users\\\\mohammed\\\\Desktop\\\\workdir\\\\app\\\\data\\\\video_simples\\\\FR_GROU_MONS_SOLA_0005_015_F_MP4_AVEC_PROMO_1709298526.mp4\"\n",
    "video_info = get_video_info(video_path)\n",
    "\n",
    "print(video_info)"
   ]
  },
  {
   "cell_type": "code",
   "execution_count": null,
   "metadata": {},
   "outputs": [],
   "source": []
  }
 ],
 "metadata": {
  "kernelspec": {
   "display_name": "Python 3 (ipykernel)",
   "language": "python",
   "name": "python3"
  },
  "language_info": {
   "codemirror_mode": {
    "name": "ipython",
    "version": 3
   },
   "file_extension": ".py",
   "mimetype": "text/x-python",
   "name": "python",
   "nbconvert_exporter": "python",
   "pygments_lexer": "ipython3",
   "version": "3.9.13"
  }
 },
 "nbformat": 4,
 "nbformat_minor": 4
}
